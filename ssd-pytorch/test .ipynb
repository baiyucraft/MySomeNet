{
 "cells": [
  {
   "cell_type": "code",
   "execution_count": null,
   "id": "b1f7118a",
   "metadata": {},
   "outputs": [
    {
     "name": "stderr",
     "output_type": "stream",
     "text": [
      "[W NNPACK.cpp:80] Could not initialize NNPACK! Reason: Unsupported hardware.\n",
      "/root/MySomeNet/ssd-pytorch/nets/my_ssd.py:33: UserWarning: To copy construct from a tensor, it is recommended to use sourceTensor.clone().detach() or sourceTensor.clone().detach().requires_grad_(True), rather than torch.tensor(sourceTensor).\n",
      "  self.priors = torch.tensor(self.priorbox.forward()).type(torch.FloatTensor)\n"
     ]
    }
   ],
   "source": [
    "import torch\n",
    "from nets.my_ssd import get_ssd\n",
    "\n",
    "ssd = get_ssd('train', 21)\n",
    "x = torch.randn(size=(5, 3, 300, 300))\n",
    "for i in ssd(x):\n",
    "    print(i.shape)"
   ]
  },
  {
   "cell_type": "code",
   "execution_count": null,
   "id": "d53f329f",
   "metadata": {},
   "outputs": [],
   "source": []
  }
 ],
 "metadata": {
  "kernelspec": {
   "display_name": "Python 3 (ipykernel)",
   "language": "python",
   "name": "python3"
  },
  "language_info": {
   "codemirror_mode": {
    "name": "ipython",
    "version": 3
   },
   "file_extension": ".py",
   "mimetype": "text/x-python",
   "name": "python",
   "nbconvert_exporter": "python",
   "pygments_lexer": "ipython3",
   "version": "3.7.0"
  }
 },
 "nbformat": 4,
 "nbformat_minor": 5
}
